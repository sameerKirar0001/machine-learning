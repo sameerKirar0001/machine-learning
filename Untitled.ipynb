{
  "metadata": {
    "kernelspec": {
      "name": "python",
      "display_name": "Python (Pyodide)",
      "language": "python"
    },
    "language_info": {
      "codemirror_mode": {
        "name": "python",
        "version": 3
      },
      "file_extension": ".py",
      "mimetype": "text/x-python",
      "name": "python",
      "nbconvert_exporter": "python",
      "pygments_lexer": "ipython3",
      "version": "3.8"
    }
  },
  "nbformat_minor": 4,
  "nbformat": 4,
  "cells": [
    {
      "cell_type": "code",
      "source": "import pandas as pd",
      "metadata": {
        "trusted": true
      },
      "outputs": [],
      "execution_count": 1
    },
    {
      "cell_type": "code",
      "source": "df = pd.read_csv('student_results.csv')\ndf",
      "metadata": {
        "trusted": true
      },
      "outputs": [
        {
          "execution_count": 58,
          "output_type": "execute_result",
          "data": {
            "text/plain": "   Student ID  Class  Study hrs  Sleeping hrs  Social Media usage hrs  \\\n0        1001     10          2             9                       3   \n1        1002     10          6             8                       2   \n2        1003     10          3             8                       2   \n3        1004     11          0            10                       1   \n4        1005     11          4             7                       2   \n5        1006     11         10             7                       0   \n6        1007     12          4             6                       0   \n7        1008     12         10             6                       2   \n8        1009     12          2             8                       2   \n9        1010     12          6             9                       1   \n\n   Mobile Games hrs  Percantege  \n0                 5          50  \n1                 0          80  \n2                 4          60  \n3                 5          45  \n4                 0          75  \n5                 0          96  \n6                 0          80  \n7                 0          90  \n8                 4          60  \n9                 0          85  ",
            "text/html": "<div>\n<style scoped>\n    .dataframe tbody tr th:only-of-type {\n        vertical-align: middle;\n    }\n\n    .dataframe tbody tr th {\n        vertical-align: top;\n    }\n\n    .dataframe thead th {\n        text-align: right;\n    }\n</style>\n<table border=\"1\" class=\"dataframe\">\n  <thead>\n    <tr style=\"text-align: right;\">\n      <th></th>\n      <th>Student ID</th>\n      <th>Class</th>\n      <th>Study hrs</th>\n      <th>Sleeping hrs</th>\n      <th>Social Media usage hrs</th>\n      <th>Mobile Games hrs</th>\n      <th>Percantege</th>\n    </tr>\n  </thead>\n  <tbody>\n    <tr>\n      <th>0</th>\n      <td>1001</td>\n      <td>10</td>\n      <td>2</td>\n      <td>9</td>\n      <td>3</td>\n      <td>5</td>\n      <td>50</td>\n    </tr>\n    <tr>\n      <th>1</th>\n      <td>1002</td>\n      <td>10</td>\n      <td>6</td>\n      <td>8</td>\n      <td>2</td>\n      <td>0</td>\n      <td>80</td>\n    </tr>\n    <tr>\n      <th>2</th>\n      <td>1003</td>\n      <td>10</td>\n      <td>3</td>\n      <td>8</td>\n      <td>2</td>\n      <td>4</td>\n      <td>60</td>\n    </tr>\n    <tr>\n      <th>3</th>\n      <td>1004</td>\n      <td>11</td>\n      <td>0</td>\n      <td>10</td>\n      <td>1</td>\n      <td>5</td>\n      <td>45</td>\n    </tr>\n    <tr>\n      <th>4</th>\n      <td>1005</td>\n      <td>11</td>\n      <td>4</td>\n      <td>7</td>\n      <td>2</td>\n      <td>0</td>\n      <td>75</td>\n    </tr>\n    <tr>\n      <th>5</th>\n      <td>1006</td>\n      <td>11</td>\n      <td>10</td>\n      <td>7</td>\n      <td>0</td>\n      <td>0</td>\n      <td>96</td>\n    </tr>\n    <tr>\n      <th>6</th>\n      <td>1007</td>\n      <td>12</td>\n      <td>4</td>\n      <td>6</td>\n      <td>0</td>\n      <td>0</td>\n      <td>80</td>\n    </tr>\n    <tr>\n      <th>7</th>\n      <td>1008</td>\n      <td>12</td>\n      <td>10</td>\n      <td>6</td>\n      <td>2</td>\n      <td>0</td>\n      <td>90</td>\n    </tr>\n    <tr>\n      <th>8</th>\n      <td>1009</td>\n      <td>12</td>\n      <td>2</td>\n      <td>8</td>\n      <td>2</td>\n      <td>4</td>\n      <td>60</td>\n    </tr>\n    <tr>\n      <th>9</th>\n      <td>1010</td>\n      <td>12</td>\n      <td>6</td>\n      <td>9</td>\n      <td>1</td>\n      <td>0</td>\n      <td>85</td>\n    </tr>\n  </tbody>\n</table>\n</div>"
          },
          "metadata": {}
        }
      ],
      "execution_count": 58
    },
    {
      "cell_type": "code",
      "source": "df.isnull().sum()",
      "metadata": {
        "trusted": true
      },
      "outputs": [
        {
          "execution_count": 59,
          "output_type": "execute_result",
          "data": {
            "text/plain": "Student ID                0\nClass                     0\nStudy hrs                 0\nSleeping hrs              0\nSocial Media usage hrs    0\nMobile Games hrs          0\nPercantege                0\ndtype: int64"
          },
          "metadata": {}
        }
      ],
      "execution_count": 59
    },
    {
      "cell_type": "code",
      "source": "df",
      "metadata": {
        "trusted": true
      },
      "outputs": [
        {
          "execution_count": 137,
          "output_type": "execute_result",
          "data": {
            "text/plain": "   Student ID  Class  Study hrs  Sleeping hrs  Social Media usage hrs  \\\n0        1001     10          2             9                       3   \n1        1002     10          6             8                       2   \n2        1003     10          3             8                       2   \n3        1004     11          0            10                       1   \n4        1005     11          4             7                       2   \n5        1006     11         10             7                       0   \n6        1007     12          4             6                       0   \n7        1008     12         10             6                       2   \n8        1009     12          2             8                       2   \n9        1010     12          6             9                       1   \n\n   Mobile Games hrs  Percantege  \n0                 5          50  \n1                 0          80  \n2                 4          60  \n3                 5          45  \n4                 0          75  \n5                 0          96  \n6                 0          80  \n7                 0          90  \n8                 4          60  \n9                 0          85  ",
            "text/html": "<div>\n<style scoped>\n    .dataframe tbody tr th:only-of-type {\n        vertical-align: middle;\n    }\n\n    .dataframe tbody tr th {\n        vertical-align: top;\n    }\n\n    .dataframe thead th {\n        text-align: right;\n    }\n</style>\n<table border=\"1\" class=\"dataframe\">\n  <thead>\n    <tr style=\"text-align: right;\">\n      <th></th>\n      <th>Student ID</th>\n      <th>Class</th>\n      <th>Study hrs</th>\n      <th>Sleeping hrs</th>\n      <th>Social Media usage hrs</th>\n      <th>Mobile Games hrs</th>\n      <th>Percantege</th>\n    </tr>\n  </thead>\n  <tbody>\n    <tr>\n      <th>0</th>\n      <td>1001</td>\n      <td>10</td>\n      <td>2</td>\n      <td>9</td>\n      <td>3</td>\n      <td>5</td>\n      <td>50</td>\n    </tr>\n    <tr>\n      <th>1</th>\n      <td>1002</td>\n      <td>10</td>\n      <td>6</td>\n      <td>8</td>\n      <td>2</td>\n      <td>0</td>\n      <td>80</td>\n    </tr>\n    <tr>\n      <th>2</th>\n      <td>1003</td>\n      <td>10</td>\n      <td>3</td>\n      <td>8</td>\n      <td>2</td>\n      <td>4</td>\n      <td>60</td>\n    </tr>\n    <tr>\n      <th>3</th>\n      <td>1004</td>\n      <td>11</td>\n      <td>0</td>\n      <td>10</td>\n      <td>1</td>\n      <td>5</td>\n      <td>45</td>\n    </tr>\n    <tr>\n      <th>4</th>\n      <td>1005</td>\n      <td>11</td>\n      <td>4</td>\n      <td>7</td>\n      <td>2</td>\n      <td>0</td>\n      <td>75</td>\n    </tr>\n    <tr>\n      <th>5</th>\n      <td>1006</td>\n      <td>11</td>\n      <td>10</td>\n      <td>7</td>\n      <td>0</td>\n      <td>0</td>\n      <td>96</td>\n    </tr>\n    <tr>\n      <th>6</th>\n      <td>1007</td>\n      <td>12</td>\n      <td>4</td>\n      <td>6</td>\n      <td>0</td>\n      <td>0</td>\n      <td>80</td>\n    </tr>\n    <tr>\n      <th>7</th>\n      <td>1008</td>\n      <td>12</td>\n      <td>10</td>\n      <td>6</td>\n      <td>2</td>\n      <td>0</td>\n      <td>90</td>\n    </tr>\n    <tr>\n      <th>8</th>\n      <td>1009</td>\n      <td>12</td>\n      <td>2</td>\n      <td>8</td>\n      <td>2</td>\n      <td>4</td>\n      <td>60</td>\n    </tr>\n    <tr>\n      <th>9</th>\n      <td>1010</td>\n      <td>12</td>\n      <td>6</td>\n      <td>9</td>\n      <td>1</td>\n      <td>0</td>\n      <td>85</td>\n    </tr>\n  </tbody>\n</table>\n</div>"
          },
          "metadata": {}
        }
      ],
      "execution_count": 137
    },
    {
      "cell_type": "code",
      "source": "x = df.drop(columns = 'Percantege')\nx",
      "metadata": {
        "trusted": true
      },
      "outputs": [
        {
          "execution_count": 138,
          "output_type": "execute_result",
          "data": {
            "text/plain": "   Student ID  Class  Study hrs  Sleeping hrs  Social Media usage hrs  \\\n0        1001     10          2             9                       3   \n1        1002     10          6             8                       2   \n2        1003     10          3             8                       2   \n3        1004     11          0            10                       1   \n4        1005     11          4             7                       2   \n5        1006     11         10             7                       0   \n6        1007     12          4             6                       0   \n7        1008     12         10             6                       2   \n8        1009     12          2             8                       2   \n9        1010     12          6             9                       1   \n\n   Mobile Games hrs  \n0                 5  \n1                 0  \n2                 4  \n3                 5  \n4                 0  \n5                 0  \n6                 0  \n7                 0  \n8                 4  \n9                 0  ",
            "text/html": "<div>\n<style scoped>\n    .dataframe tbody tr th:only-of-type {\n        vertical-align: middle;\n    }\n\n    .dataframe tbody tr th {\n        vertical-align: top;\n    }\n\n    .dataframe thead th {\n        text-align: right;\n    }\n</style>\n<table border=\"1\" class=\"dataframe\">\n  <thead>\n    <tr style=\"text-align: right;\">\n      <th></th>\n      <th>Student ID</th>\n      <th>Class</th>\n      <th>Study hrs</th>\n      <th>Sleeping hrs</th>\n      <th>Social Media usage hrs</th>\n      <th>Mobile Games hrs</th>\n    </tr>\n  </thead>\n  <tbody>\n    <tr>\n      <th>0</th>\n      <td>1001</td>\n      <td>10</td>\n      <td>2</td>\n      <td>9</td>\n      <td>3</td>\n      <td>5</td>\n    </tr>\n    <tr>\n      <th>1</th>\n      <td>1002</td>\n      <td>10</td>\n      <td>6</td>\n      <td>8</td>\n      <td>2</td>\n      <td>0</td>\n    </tr>\n    <tr>\n      <th>2</th>\n      <td>1003</td>\n      <td>10</td>\n      <td>3</td>\n      <td>8</td>\n      <td>2</td>\n      <td>4</td>\n    </tr>\n    <tr>\n      <th>3</th>\n      <td>1004</td>\n      <td>11</td>\n      <td>0</td>\n      <td>10</td>\n      <td>1</td>\n      <td>5</td>\n    </tr>\n    <tr>\n      <th>4</th>\n      <td>1005</td>\n      <td>11</td>\n      <td>4</td>\n      <td>7</td>\n      <td>2</td>\n      <td>0</td>\n    </tr>\n    <tr>\n      <th>5</th>\n      <td>1006</td>\n      <td>11</td>\n      <td>10</td>\n      <td>7</td>\n      <td>0</td>\n      <td>0</td>\n    </tr>\n    <tr>\n      <th>6</th>\n      <td>1007</td>\n      <td>12</td>\n      <td>4</td>\n      <td>6</td>\n      <td>0</td>\n      <td>0</td>\n    </tr>\n    <tr>\n      <th>7</th>\n      <td>1008</td>\n      <td>12</td>\n      <td>10</td>\n      <td>6</td>\n      <td>2</td>\n      <td>0</td>\n    </tr>\n    <tr>\n      <th>8</th>\n      <td>1009</td>\n      <td>12</td>\n      <td>2</td>\n      <td>8</td>\n      <td>2</td>\n      <td>4</td>\n    </tr>\n    <tr>\n      <th>9</th>\n      <td>1010</td>\n      <td>12</td>\n      <td>6</td>\n      <td>9</td>\n      <td>1</td>\n      <td>0</td>\n    </tr>\n  </tbody>\n</table>\n</div>"
          },
          "metadata": {}
        }
      ],
      "execution_count": 138
    },
    {
      "cell_type": "code",
      "source": "y= df['Percantege']\ny",
      "metadata": {
        "trusted": true
      },
      "outputs": [
        {
          "execution_count": 139,
          "output_type": "execute_result",
          "data": {
            "text/plain": "0    50\n1    80\n2    60\n3    45\n4    75\n5    96\n6    80\n7    90\n8    60\n9    85\nName: Percantege, dtype: int64"
          },
          "metadata": {}
        }
      ],
      "execution_count": 139
    },
    {
      "cell_type": "code",
      "source": "from sklearn.model_selection import train_test_split",
      "metadata": {
        "trusted": true
      },
      "outputs": [],
      "execution_count": 285
    },
    {
      "cell_type": "code",
      "source": "x_train,x_test,y_train,y_test = train_test_split(x,y,test_size = 0.50,random_state=18)\n",
      "metadata": {
        "trusted": true
      },
      "outputs": [],
      "execution_count": 318
    },
    {
      "cell_type": "code",
      "source": "x_train",
      "metadata": {
        "trusted": true
      },
      "outputs": [
        {
          "execution_count": 319,
          "output_type": "execute_result",
          "data": {
            "text/plain": "   Student ID  Class  Study hrs  Sleeping hrs  Social Media usage hrs  \\\n1        1002     10          6             8                       2   \n6        1007     12          4             6                       0   \n5        1006     11         10             7                       0   \n8        1009     12          2             8                       2   \n3        1004     11          0            10                       1   \n\n   Mobile Games hrs  \n1                 0  \n6                 0  \n5                 0  \n8                 4  \n3                 5  ",
            "text/html": "<div>\n<style scoped>\n    .dataframe tbody tr th:only-of-type {\n        vertical-align: middle;\n    }\n\n    .dataframe tbody tr th {\n        vertical-align: top;\n    }\n\n    .dataframe thead th {\n        text-align: right;\n    }\n</style>\n<table border=\"1\" class=\"dataframe\">\n  <thead>\n    <tr style=\"text-align: right;\">\n      <th></th>\n      <th>Student ID</th>\n      <th>Class</th>\n      <th>Study hrs</th>\n      <th>Sleeping hrs</th>\n      <th>Social Media usage hrs</th>\n      <th>Mobile Games hrs</th>\n    </tr>\n  </thead>\n  <tbody>\n    <tr>\n      <th>1</th>\n      <td>1002</td>\n      <td>10</td>\n      <td>6</td>\n      <td>8</td>\n      <td>2</td>\n      <td>0</td>\n    </tr>\n    <tr>\n      <th>6</th>\n      <td>1007</td>\n      <td>12</td>\n      <td>4</td>\n      <td>6</td>\n      <td>0</td>\n      <td>0</td>\n    </tr>\n    <tr>\n      <th>5</th>\n      <td>1006</td>\n      <td>11</td>\n      <td>10</td>\n      <td>7</td>\n      <td>0</td>\n      <td>0</td>\n    </tr>\n    <tr>\n      <th>8</th>\n      <td>1009</td>\n      <td>12</td>\n      <td>2</td>\n      <td>8</td>\n      <td>2</td>\n      <td>4</td>\n    </tr>\n    <tr>\n      <th>3</th>\n      <td>1004</td>\n      <td>11</td>\n      <td>0</td>\n      <td>10</td>\n      <td>1</td>\n      <td>5</td>\n    </tr>\n  </tbody>\n</table>\n</div>"
          },
          "metadata": {}
        }
      ],
      "execution_count": 319
    },
    {
      "cell_type": "code",
      "source": "x_test",
      "metadata": {
        "trusted": true
      },
      "outputs": [
        {
          "execution_count": 320,
          "output_type": "execute_result",
          "data": {
            "text/plain": "   Student ID  Class  Study hrs  Sleeping hrs  Social Media usage hrs  \\\n7        1008     12         10             6                       2   \n9        1010     12          6             9                       1   \n0        1001     10          2             9                       3   \n4        1005     11          4             7                       2   \n2        1003     10          3             8                       2   \n\n   Mobile Games hrs  \n7                 0  \n9                 0  \n0                 5  \n4                 0  \n2                 4  ",
            "text/html": "<div>\n<style scoped>\n    .dataframe tbody tr th:only-of-type {\n        vertical-align: middle;\n    }\n\n    .dataframe tbody tr th {\n        vertical-align: top;\n    }\n\n    .dataframe thead th {\n        text-align: right;\n    }\n</style>\n<table border=\"1\" class=\"dataframe\">\n  <thead>\n    <tr style=\"text-align: right;\">\n      <th></th>\n      <th>Student ID</th>\n      <th>Class</th>\n      <th>Study hrs</th>\n      <th>Sleeping hrs</th>\n      <th>Social Media usage hrs</th>\n      <th>Mobile Games hrs</th>\n    </tr>\n  </thead>\n  <tbody>\n    <tr>\n      <th>7</th>\n      <td>1008</td>\n      <td>12</td>\n      <td>10</td>\n      <td>6</td>\n      <td>2</td>\n      <td>0</td>\n    </tr>\n    <tr>\n      <th>9</th>\n      <td>1010</td>\n      <td>12</td>\n      <td>6</td>\n      <td>9</td>\n      <td>1</td>\n      <td>0</td>\n    </tr>\n    <tr>\n      <th>0</th>\n      <td>1001</td>\n      <td>10</td>\n      <td>2</td>\n      <td>9</td>\n      <td>3</td>\n      <td>5</td>\n    </tr>\n    <tr>\n      <th>4</th>\n      <td>1005</td>\n      <td>11</td>\n      <td>4</td>\n      <td>7</td>\n      <td>2</td>\n      <td>0</td>\n    </tr>\n    <tr>\n      <th>2</th>\n      <td>1003</td>\n      <td>10</td>\n      <td>3</td>\n      <td>8</td>\n      <td>2</td>\n      <td>4</td>\n    </tr>\n  </tbody>\n</table>\n</div>"
          },
          "metadata": {}
        }
      ],
      "execution_count": 320
    },
    {
      "cell_type": "code",
      "source": "y_train\n\n",
      "metadata": {
        "trusted": true
      },
      "outputs": [
        {
          "execution_count": 321,
          "output_type": "execute_result",
          "data": {
            "text/plain": "1    80\n6    80\n5    96\n8    60\n3    45\nName: Percantege, dtype: int64"
          },
          "metadata": {}
        }
      ],
      "execution_count": 321
    },
    {
      "cell_type": "code",
      "source": "y_test",
      "metadata": {
        "trusted": true
      },
      "outputs": [
        {
          "execution_count": 322,
          "output_type": "execute_result",
          "data": {
            "text/plain": "7    90\n9    85\n0    50\n4    75\n2    60\nName: Percantege, dtype: int64"
          },
          "metadata": {}
        }
      ],
      "execution_count": 322
    },
    {
      "cell_type": "code",
      "source": "from sklearn.preprocessing import StandardScaler",
      "metadata": {
        "trusted": true
      },
      "outputs": [],
      "execution_count": 323
    },
    {
      "cell_type": "code",
      "source": "sc = StandardScaler()",
      "metadata": {
        "trusted": true
      },
      "outputs": [],
      "execution_count": 324
    },
    {
      "cell_type": "code",
      "source": "x_train_scaled = sc.fit_transform(x_train)",
      "metadata": {
        "trusted": true
      },
      "outputs": [],
      "execution_count": 325
    },
    {
      "cell_type": "code",
      "source": "x_test_scaled = sc.transform(x_test)",
      "metadata": {
        "trusted": true
      },
      "outputs": [],
      "execution_count": 326
    },
    {
      "cell_type": "code",
      "source": "x_train_scaled",
      "metadata": {
        "trusted": true
      },
      "outputs": [
        {
          "execution_count": 327,
          "output_type": "execute_result",
          "data": {
            "text/plain": "array([[-1.4896906 , -1.60356745,  0.46499055,  0.15075567,  1.11803399,\n        -0.80822386],\n       [ 0.57932412,  1.06904497, -0.11624764, -1.35680105, -1.11803399,\n        -0.80822386],\n       [ 0.16552118, -0.26726124,  1.62746694, -0.60302269, -1.11803399,\n        -0.80822386],\n       [ 1.40693001,  1.06904497, -0.69748583,  0.15075567,  1.11803399,\n         0.98782916],\n       [-0.66208471, -0.26726124, -1.27872403,  1.6583124 ,  0.        ,\n         1.43684242]])"
          },
          "metadata": {}
        }
      ],
      "execution_count": 327
    },
    {
      "cell_type": "code",
      "source": "from sklearn.linear_model import LinearRegression",
      "metadata": {
        "trusted": true
      },
      "outputs": [],
      "execution_count": 328
    },
    {
      "cell_type": "code",
      "source": "lin = LinearRegression()",
      "metadata": {
        "trusted": true
      },
      "outputs": [],
      "execution_count": 329
    },
    {
      "cell_type": "code",
      "source": "lin.fit(x_train,y_train)",
      "metadata": {
        "trusted": true
      },
      "outputs": [
        {
          "execution_count": 330,
          "output_type": "execute_result",
          "data": {
            "text/plain": "LinearRegression()",
            "text/html": "<style>#sk-container-id-16 {color: black;}#sk-container-id-16 pre{padding: 0;}#sk-container-id-16 div.sk-toggleable {background-color: white;}#sk-container-id-16 label.sk-toggleable__label {cursor: pointer;display: block;width: 100%;margin-bottom: 0;padding: 0.3em;box-sizing: border-box;text-align: center;}#sk-container-id-16 label.sk-toggleable__label-arrow:before {content: \"▸\";float: left;margin-right: 0.25em;color: #696969;}#sk-container-id-16 label.sk-toggleable__label-arrow:hover:before {color: black;}#sk-container-id-16 div.sk-estimator:hover label.sk-toggleable__label-arrow:before {color: black;}#sk-container-id-16 div.sk-toggleable__content {max-height: 0;max-width: 0;overflow: hidden;text-align: left;background-color: #f0f8ff;}#sk-container-id-16 div.sk-toggleable__content pre {margin: 0.2em;color: black;border-radius: 0.25em;background-color: #f0f8ff;}#sk-container-id-16 input.sk-toggleable__control:checked~div.sk-toggleable__content {max-height: 200px;max-width: 100%;overflow: auto;}#sk-container-id-16 input.sk-toggleable__control:checked~label.sk-toggleable__label-arrow:before {content: \"▾\";}#sk-container-id-16 div.sk-estimator input.sk-toggleable__control:checked~label.sk-toggleable__label {background-color: #d4ebff;}#sk-container-id-16 div.sk-label input.sk-toggleable__control:checked~label.sk-toggleable__label {background-color: #d4ebff;}#sk-container-id-16 input.sk-hidden--visually {border: 0;clip: rect(1px 1px 1px 1px);clip: rect(1px, 1px, 1px, 1px);height: 1px;margin: -1px;overflow: hidden;padding: 0;position: absolute;width: 1px;}#sk-container-id-16 div.sk-estimator {font-family: monospace;background-color: #f0f8ff;border: 1px dotted black;border-radius: 0.25em;box-sizing: border-box;margin-bottom: 0.5em;}#sk-container-id-16 div.sk-estimator:hover {background-color: #d4ebff;}#sk-container-id-16 div.sk-parallel-item::after {content: \"\";width: 100%;border-bottom: 1px solid gray;flex-grow: 1;}#sk-container-id-16 div.sk-label:hover label.sk-toggleable__label {background-color: #d4ebff;}#sk-container-id-16 div.sk-serial::before {content: \"\";position: absolute;border-left: 1px solid gray;box-sizing: border-box;top: 0;bottom: 0;left: 50%;z-index: 0;}#sk-container-id-16 div.sk-serial {display: flex;flex-direction: column;align-items: center;background-color: white;padding-right: 0.2em;padding-left: 0.2em;position: relative;}#sk-container-id-16 div.sk-item {position: relative;z-index: 1;}#sk-container-id-16 div.sk-parallel {display: flex;align-items: stretch;justify-content: center;background-color: white;position: relative;}#sk-container-id-16 div.sk-item::before, #sk-container-id-16 div.sk-parallel-item::before {content: \"\";position: absolute;border-left: 1px solid gray;box-sizing: border-box;top: 0;bottom: 0;left: 50%;z-index: -1;}#sk-container-id-16 div.sk-parallel-item {display: flex;flex-direction: column;z-index: 1;position: relative;background-color: white;}#sk-container-id-16 div.sk-parallel-item:first-child::after {align-self: flex-end;width: 50%;}#sk-container-id-16 div.sk-parallel-item:last-child::after {align-self: flex-start;width: 50%;}#sk-container-id-16 div.sk-parallel-item:only-child::after {width: 0;}#sk-container-id-16 div.sk-dashed-wrapped {border: 1px dashed gray;margin: 0 0.4em 0.5em 0.4em;box-sizing: border-box;padding-bottom: 0.4em;background-color: white;}#sk-container-id-16 div.sk-label label {font-family: monospace;font-weight: bold;display: inline-block;line-height: 1.2em;}#sk-container-id-16 div.sk-label-container {text-align: center;}#sk-container-id-16 div.sk-container {/* jupyter's `normalize.less` sets `[hidden] { display: none; }` but bootstrap.min.css set `[hidden] { display: none !important; }` so we also need the `!important` here to be able to override the default hidden behavior on the sphinx rendered scikit-learn.org. See: https://github.com/scikit-learn/scikit-learn/issues/21755 */display: inline-block !important;position: relative;}#sk-container-id-16 div.sk-text-repr-fallback {display: none;}</style><div id=\"sk-container-id-16\" class=\"sk-top-container\"><div class=\"sk-text-repr-fallback\"><pre>LinearRegression()</pre><b>In a Jupyter environment, please rerun this cell to show the HTML representation or trust the notebook. <br />On GitHub, the HTML representation is unable to render, please try loading this page with nbviewer.org.</b></div><div class=\"sk-container\" hidden><div class=\"sk-item\"><div class=\"sk-estimator sk-toggleable\"><input class=\"sk-toggleable__control sk-hidden--visually\" id=\"sk-estimator-id-16\" type=\"checkbox\" checked><label for=\"sk-estimator-id-16\" class=\"sk-toggleable__label sk-toggleable__label-arrow\">LinearRegression</label><div class=\"sk-toggleable__content\"><pre>LinearRegression()</pre></div></div></div></div></div>"
          },
          "metadata": {}
        }
      ],
      "execution_count": 330
    },
    {
      "cell_type": "code",
      "source": "lin.predict(x_train)",
      "metadata": {
        "trusted": true
      },
      "outputs": [
        {
          "execution_count": 331,
          "output_type": "execute_result",
          "data": {
            "text/plain": "array([80., 80., 96., 60., 45.])"
          },
          "metadata": {}
        }
      ],
      "execution_count": 331
    },
    {
      "cell_type": "code",
      "source": "lin.score(x_train,y_train)",
      "metadata": {
        "trusted": true
      },
      "outputs": [
        {
          "execution_count": 332,
          "output_type": "execute_result",
          "data": {
            "text/plain": "1.0"
          },
          "metadata": {}
        }
      ],
      "execution_count": 332
    },
    {
      "cell_type": "code",
      "source": "lin.score(x_test,y_test)",
      "metadata": {
        "trusted": true
      },
      "outputs": [
        {
          "execution_count": 333,
          "output_type": "execute_result",
          "data": {
            "text/plain": "0.866494111952633"
          },
          "metadata": {}
        }
      ],
      "execution_count": 333
    },
    {
      "cell_type": "code",
      "source": "",
      "metadata": {
        "trusted": true
      },
      "outputs": [],
      "execution_count": null
    },
    {
      "cell_type": "code",
      "source": "",
      "metadata": {
        "trusted": true
      },
      "outputs": [],
      "execution_count": null
    }
  ]
}